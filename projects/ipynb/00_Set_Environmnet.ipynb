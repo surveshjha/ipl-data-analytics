{
 "cells": [
  {
   "cell_type": "code",
   "execution_count": null,
   "id": "985e2fcc",
   "metadata": {},
   "outputs": [],
   "source": [
    "from pyspark.sql import SparkSession"
   ]
  },
  {
   "cell_type": "code",
   "execution_count": 4,
   "id": "34249899",
   "metadata": {},
   "outputs": [
    {
     "name": "stdout",
     "output_type": "stream",
     "text": [
      "[INFO] Initializing Spark session...\n",
      "[INFO] Spark session initialized successfully.\n"
     ]
    }
   ],
   "source": [
    "# ------------------------------------------------------------------------------------------------------------------------\n",
    "# ⚙️ 1. Spark Session Initialization\n",
    "# ------------------------------------------------------------------------------------------------------------------------\n",
    "\n",
    "print(\"[INFO] Initializing Spark session...\")\n",
    "\n",
    "custom_tmp_dir = \"E:/DataEngineering/SparkTemp\"  # Custom temp directory\n",
    "\n",
    "spark = SparkSession.builder \\\n",
    "    .appName(\"IPL Data Analysis SPARK\") \\\n",
    "    .config(\"spark.local.dir\", custom_tmp_dir) \\\n",
    "    .config(\"spark.files.overwrite\", \"false\") \\\n",
    "    .config(\"spark.driver.memory\", \"8g\") \\\n",
    "    .config(\"spark.executor.memory\", \"8g\") \\\n",
    "    .config(\"spark.hadoop.fs.gs.impl\", \"com.google.cloud.hadoop.fs.gcs.GoogleHadoopFileSystem\") \\\n",
    "    .config(\"spark.hadoop.fs.AbstractFileSystem.gs.impl\", \"com.google.cloud.hadoop.fs.gcs.GoogleHadoopFS\") \\\n",
    "    .config(\"spark.hadoop.google.cloud.auth.service.account.enable\", \"true\") \\\n",
    "    .config(\"spark.hadoop.google.cloud.auth.service.account.json.keyfile\", \n",
    "            \"E:/DataEngineering/keys/data-with-jha-0e1c0496e4ff.json\") \\\n",
    "    .config(\"spark.driver.extraClassPath\", \n",
    "            \"E:\\\\DataEngineering\\\\Ipl-Analytics\\\\jars\\\\gcs-connector-hadoop3-2.2.5-shaded.jar\") \\\n",
    "    .getOrCreate()\n",
    "\n",
    "spark.sparkContext.setLogLevel(\"ERROR\")\n",
    "\n",
    "print(\"[INFO] Spark session initialized successfully.\")"
   ]
  },
  {
   "cell_type": "code",
   "execution_count": null,
   "id": "78c40d98",
   "metadata": {},
   "outputs": [],
   "source": []
  },
  {
   "cell_type": "code",
   "execution_count": null,
   "id": "764b90c2",
   "metadata": {},
   "outputs": [],
   "source": []
  }
 ],
 "metadata": {
  "kernelspec": {
   "display_name": "Python 3 (ipykernel)",
   "language": "python",
   "name": "python3"
  },
  "language_info": {
   "codemirror_mode": {
    "name": "ipython",
    "version": 3
   },
   "file_extension": ".py",
   "mimetype": "text/x-python",
   "name": "python",
   "nbconvert_exporter": "python",
   "pygments_lexer": "ipython3",
   "version": "3.10.16"
  }
 },
 "nbformat": 4,
 "nbformat_minor": 5
}
